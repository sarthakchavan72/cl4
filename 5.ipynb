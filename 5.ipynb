{
 "cells": [
  {
   "cell_type": "code",
   "execution_count": 4,
   "id": "b877c408",
   "metadata": {},
   "outputs": [
    {
     "name": "stdout",
     "output_type": "stream",
     "text": [
      "The word 'sarthak' appears 3 times.\n"
     ]
    }
   ],
   "source": [
    "def map_reduce(file_path, target_word): \n",
    "    word_count = 0 \n",
    "    with open(file_path, 'r') as file: \n",
    "        # Map phase: Emit each word with count 1 \n",
    "        mapped_data = [(word.lower(), 1) for line in file for word in line.strip().split()] \n",
    "     \n",
    "    # Reduce phase: Aggregate counts for the target word \n",
    "    for word, count in mapped_data: \n",
    "        if word == target_word.lower(): \n",
    "            word_count += count \n",
    "     \n",
    "    return word_count \n",
    " \n",
    "# Example usage \n",
    "file_path = 'G.txt'  # Update to your file path \n",
    "target_word = \"sarthak\" \n",
    "# Calculate the frequency of the target word in the file \n",
    "frequency = map_reduce(file_path, target_word) \n",
    "print(f\"The word '{target_word}' appears {frequency} times.\") "
   ]
  },
  {
   "cell_type": "code",
   "execution_count": null,
   "id": "f5b37292",
   "metadata": {},
   "outputs": [],
   "source": []
  }
 ],
 "metadata": {
  "kernelspec": {
   "display_name": "Python 3 (ipykernel)",
   "language": "python",
   "name": "python3"
  },
  "language_info": {
   "codemirror_mode": {
    "name": "ipython",
    "version": 3
   },
   "file_extension": ".py",
   "mimetype": "text/x-python",
   "name": "python",
   "nbconvert_exporter": "python",
   "pygments_lexer": "ipython3",
   "version": "3.10.9"
  }
 },
 "nbformat": 4,
 "nbformat_minor": 5
}
