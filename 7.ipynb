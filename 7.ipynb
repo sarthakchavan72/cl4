{
 "cells": [
  {
   "cell_type": "code",
   "execution_count": null,
   "id": "fde93c11",
   "metadata": {},
   "outputs": [],
   "source": []
  },
  {
   "cell_type": "code",
   "execution_count": 1,
   "id": "cab44475",
   "metadata": {},
   "outputs": [
    {
     "name": "stdout",
     "output_type": "stream",
     "text": [
      "Alice has been assigned grade B.\n",
      "Bob has been assigned grade B.\n",
      "Charlie has been assigned grade B.\n",
      "Diana has been assigned grade B.\n",
      "Ethan has been assigned grade B.\n",
      "Fiona has been assigned grade B.\n",
      "George has been assigned grade A.\n",
      "Hannah has been assigned grade B.\n",
      "Ian has been assigned grade B.\n",
      "Julia has been assigned grade B.\n"
     ]
    }
   ],
   "source": [
    "from collections import defaultdict\n",
    "\n",
    "# Map function: emits student name and score\n",
    "def map_function(student_scores):\n",
    "    for student_name, score in student_scores:\n",
    "        yield student_name, score\n",
    "\n",
    "# Reduce function: computes average score and assigns a grade\n",
    "def reduce_function(mapped_data):\n",
    "    score_totals = defaultdict(list)\n",
    "    \n",
    "    for student_name, score in mapped_data:\n",
    "        score_totals[student_name].append(score)\n",
    "    \n",
    "    grades = {}\n",
    "    for student_name, scores in score_totals.items():\n",
    "        avg_score = sum(scores) / len(scores)\n",
    "        if avg_score > 80:\n",
    "            grade = 'A'\n",
    "        elif avg_score > 60:\n",
    "            grade = 'B'\n",
    "        elif avg_score > 40:\n",
    "            grade = 'C'\n",
    "        else:\n",
    "            grade = 'D'\n",
    "        grades[student_name] = grade\n",
    "    return grades\n",
    "\n",
    "# Full MapReduce pipeline\n",
    "def map_reduce(file_path):\n",
    "    student_scores = []\n",
    "    \n",
    "    # Read from the text file\n",
    "    with open(file_path, 'r') as file:\n",
    "        for line in file:\n",
    "            name, score = line.strip().split()\n",
    "            student_scores.append((name, int(score)))\n",
    "    \n",
    "    # Map phase\n",
    "    mapped_data = list(map_function(student_scores))\n",
    "    \n",
    "    # Reduce phase\n",
    "    grades = reduce_function(mapped_data)\n",
    "    \n",
    "    return grades\n",
    "\n",
    "# Execute and print results\n",
    "grades = map_reduce('student_scores_multi_names.txt')\n",
    "for student_name, grade in grades.items():\n",
    "    print(f\"{student_name} has been assigned grade {grade}.\")\n"
   ]
  },
  {
   "cell_type": "code",
   "execution_count": null,
   "id": "d3c08c95",
   "metadata": {},
   "outputs": [],
   "source": []
  }
 ],
 "metadata": {
  "kernelspec": {
   "display_name": "Python 3 (ipykernel)",
   "language": "python",
   "name": "python3"
  },
  "language_info": {
   "codemirror_mode": {
    "name": "ipython",
    "version": 3
   },
   "file_extension": ".py",
   "mimetype": "text/x-python",
   "name": "python",
   "nbconvert_exporter": "python",
   "pygments_lexer": "ipython3",
   "version": "3.10.9"
  }
 },
 "nbformat": 4,
 "nbformat_minor": 5
}
